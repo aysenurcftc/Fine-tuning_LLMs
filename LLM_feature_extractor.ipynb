{
  "nbformat": 4,
  "nbformat_minor": 0,
  "metadata": {
    "colab": {
      "provenance": [],
      "gpuType": "T4",
      "authorship_tag": "ABX9TyM9UFwcofwTwcXNiiiI5a9Y",
      "include_colab_link": true
    },
    "kernelspec": {
      "name": "python3",
      "display_name": "Python 3"
    },
    "language_info": {
      "name": "python"
    },
    "accelerator": "GPU",
    "widgets": {
      "application/vnd.jupyter.widget-state+json": {
        "5d05c8b338e74276b3e06f4c62b75b57": {
          "model_module": "@jupyter-widgets/controls",
          "model_name": "HBoxModel",
          "model_module_version": "1.5.0",
          "state": {
            "_dom_classes": [],
            "_model_module": "@jupyter-widgets/controls",
            "_model_module_version": "1.5.0",
            "_model_name": "HBoxModel",
            "_view_count": null,
            "_view_module": "@jupyter-widgets/controls",
            "_view_module_version": "1.5.0",
            "_view_name": "HBoxView",
            "box_style": "",
            "children": [
              "IPY_MODEL_6308bd17eb4046a2bd128eed365305b8",
              "IPY_MODEL_605724ceff054c0ea2b2bd39f88e0e52",
              "IPY_MODEL_7e8a9846d03b48a2ab4013a28809dce8"
            ],
            "layout": "IPY_MODEL_98590ce2c600443a84fe27e62a565b41"
          }
        },
        "6308bd17eb4046a2bd128eed365305b8": {
          "model_module": "@jupyter-widgets/controls",
          "model_name": "HTMLModel",
          "model_module_version": "1.5.0",
          "state": {
            "_dom_classes": [],
            "_model_module": "@jupyter-widgets/controls",
            "_model_module_version": "1.5.0",
            "_model_name": "HTMLModel",
            "_view_count": null,
            "_view_module": "@jupyter-widgets/controls",
            "_view_module_version": "1.5.0",
            "_view_name": "HTMLView",
            "description": "",
            "description_tooltip": null,
            "layout": "IPY_MODEL_cb917df977994b659e1090377b4a9b24",
            "placeholder": "​",
            "style": "IPY_MODEL_c8b3015743584821bb60e1d628a9d412",
            "value": "Map: 100%"
          }
        },
        "605724ceff054c0ea2b2bd39f88e0e52": {
          "model_module": "@jupyter-widgets/controls",
          "model_name": "FloatProgressModel",
          "model_module_version": "1.5.0",
          "state": {
            "_dom_classes": [],
            "_model_module": "@jupyter-widgets/controls",
            "_model_module_version": "1.5.0",
            "_model_name": "FloatProgressModel",
            "_view_count": null,
            "_view_module": "@jupyter-widgets/controls",
            "_view_module_version": "1.5.0",
            "_view_name": "ProgressView",
            "bar_style": "success",
            "description": "",
            "description_tooltip": null,
            "layout": "IPY_MODEL_0c4589babf614087850eed6707da004a",
            "max": 570,
            "min": 0,
            "orientation": "horizontal",
            "style": "IPY_MODEL_6af40c8302a84fac903ad88ad4973a32",
            "value": 570
          }
        },
        "7e8a9846d03b48a2ab4013a28809dce8": {
          "model_module": "@jupyter-widgets/controls",
          "model_name": "HTMLModel",
          "model_module_version": "1.5.0",
          "state": {
            "_dom_classes": [],
            "_model_module": "@jupyter-widgets/controls",
            "_model_module_version": "1.5.0",
            "_model_name": "HTMLModel",
            "_view_count": null,
            "_view_module": "@jupyter-widgets/controls",
            "_view_module_version": "1.5.0",
            "_view_name": "HTMLView",
            "description": "",
            "description_tooltip": null,
            "layout": "IPY_MODEL_3567baf1b0ee4c16a98ca8cc0cdb66ca",
            "placeholder": "​",
            "style": "IPY_MODEL_fe86e4812cd44412bebc80ca0f1043e7",
            "value": " 570/570 [00:07&lt;00:00, 73.50 examples/s]"
          }
        },
        "98590ce2c600443a84fe27e62a565b41": {
          "model_module": "@jupyter-widgets/base",
          "model_name": "LayoutModel",
          "model_module_version": "1.2.0",
          "state": {
            "_model_module": "@jupyter-widgets/base",
            "_model_module_version": "1.2.0",
            "_model_name": "LayoutModel",
            "_view_count": null,
            "_view_module": "@jupyter-widgets/base",
            "_view_module_version": "1.2.0",
            "_view_name": "LayoutView",
            "align_content": null,
            "align_items": null,
            "align_self": null,
            "border": null,
            "bottom": null,
            "display": null,
            "flex": null,
            "flex_flow": null,
            "grid_area": null,
            "grid_auto_columns": null,
            "grid_auto_flow": null,
            "grid_auto_rows": null,
            "grid_column": null,
            "grid_gap": null,
            "grid_row": null,
            "grid_template_areas": null,
            "grid_template_columns": null,
            "grid_template_rows": null,
            "height": null,
            "justify_content": null,
            "justify_items": null,
            "left": null,
            "margin": null,
            "max_height": null,
            "max_width": null,
            "min_height": null,
            "min_width": null,
            "object_fit": null,
            "object_position": null,
            "order": null,
            "overflow": null,
            "overflow_x": null,
            "overflow_y": null,
            "padding": null,
            "right": null,
            "top": null,
            "visibility": null,
            "width": null
          }
        },
        "cb917df977994b659e1090377b4a9b24": {
          "model_module": "@jupyter-widgets/base",
          "model_name": "LayoutModel",
          "model_module_version": "1.2.0",
          "state": {
            "_model_module": "@jupyter-widgets/base",
            "_model_module_version": "1.2.0",
            "_model_name": "LayoutModel",
            "_view_count": null,
            "_view_module": "@jupyter-widgets/base",
            "_view_module_version": "1.2.0",
            "_view_name": "LayoutView",
            "align_content": null,
            "align_items": null,
            "align_self": null,
            "border": null,
            "bottom": null,
            "display": null,
            "flex": null,
            "flex_flow": null,
            "grid_area": null,
            "grid_auto_columns": null,
            "grid_auto_flow": null,
            "grid_auto_rows": null,
            "grid_column": null,
            "grid_gap": null,
            "grid_row": null,
            "grid_template_areas": null,
            "grid_template_columns": null,
            "grid_template_rows": null,
            "height": null,
            "justify_content": null,
            "justify_items": null,
            "left": null,
            "margin": null,
            "max_height": null,
            "max_width": null,
            "min_height": null,
            "min_width": null,
            "object_fit": null,
            "object_position": null,
            "order": null,
            "overflow": null,
            "overflow_x": null,
            "overflow_y": null,
            "padding": null,
            "right": null,
            "top": null,
            "visibility": null,
            "width": null
          }
        },
        "c8b3015743584821bb60e1d628a9d412": {
          "model_module": "@jupyter-widgets/controls",
          "model_name": "DescriptionStyleModel",
          "model_module_version": "1.5.0",
          "state": {
            "_model_module": "@jupyter-widgets/controls",
            "_model_module_version": "1.5.0",
            "_model_name": "DescriptionStyleModel",
            "_view_count": null,
            "_view_module": "@jupyter-widgets/base",
            "_view_module_version": "1.2.0",
            "_view_name": "StyleView",
            "description_width": ""
          }
        },
        "0c4589babf614087850eed6707da004a": {
          "model_module": "@jupyter-widgets/base",
          "model_name": "LayoutModel",
          "model_module_version": "1.2.0",
          "state": {
            "_model_module": "@jupyter-widgets/base",
            "_model_module_version": "1.2.0",
            "_model_name": "LayoutModel",
            "_view_count": null,
            "_view_module": "@jupyter-widgets/base",
            "_view_module_version": "1.2.0",
            "_view_name": "LayoutView",
            "align_content": null,
            "align_items": null,
            "align_self": null,
            "border": null,
            "bottom": null,
            "display": null,
            "flex": null,
            "flex_flow": null,
            "grid_area": null,
            "grid_auto_columns": null,
            "grid_auto_flow": null,
            "grid_auto_rows": null,
            "grid_column": null,
            "grid_gap": null,
            "grid_row": null,
            "grid_template_areas": null,
            "grid_template_columns": null,
            "grid_template_rows": null,
            "height": null,
            "justify_content": null,
            "justify_items": null,
            "left": null,
            "margin": null,
            "max_height": null,
            "max_width": null,
            "min_height": null,
            "min_width": null,
            "object_fit": null,
            "object_position": null,
            "order": null,
            "overflow": null,
            "overflow_x": null,
            "overflow_y": null,
            "padding": null,
            "right": null,
            "top": null,
            "visibility": null,
            "width": null
          }
        },
        "6af40c8302a84fac903ad88ad4973a32": {
          "model_module": "@jupyter-widgets/controls",
          "model_name": "ProgressStyleModel",
          "model_module_version": "1.5.0",
          "state": {
            "_model_module": "@jupyter-widgets/controls",
            "_model_module_version": "1.5.0",
            "_model_name": "ProgressStyleModel",
            "_view_count": null,
            "_view_module": "@jupyter-widgets/base",
            "_view_module_version": "1.2.0",
            "_view_name": "StyleView",
            "bar_color": null,
            "description_width": ""
          }
        },
        "3567baf1b0ee4c16a98ca8cc0cdb66ca": {
          "model_module": "@jupyter-widgets/base",
          "model_name": "LayoutModel",
          "model_module_version": "1.2.0",
          "state": {
            "_model_module": "@jupyter-widgets/base",
            "_model_module_version": "1.2.0",
            "_model_name": "LayoutModel",
            "_view_count": null,
            "_view_module": "@jupyter-widgets/base",
            "_view_module_version": "1.2.0",
            "_view_name": "LayoutView",
            "align_content": null,
            "align_items": null,
            "align_self": null,
            "border": null,
            "bottom": null,
            "display": null,
            "flex": null,
            "flex_flow": null,
            "grid_area": null,
            "grid_auto_columns": null,
            "grid_auto_flow": null,
            "grid_auto_rows": null,
            "grid_column": null,
            "grid_gap": null,
            "grid_row": null,
            "grid_template_areas": null,
            "grid_template_columns": null,
            "grid_template_rows": null,
            "height": null,
            "justify_content": null,
            "justify_items": null,
            "left": null,
            "margin": null,
            "max_height": null,
            "max_width": null,
            "min_height": null,
            "min_width": null,
            "object_fit": null,
            "object_position": null,
            "order": null,
            "overflow": null,
            "overflow_x": null,
            "overflow_y": null,
            "padding": null,
            "right": null,
            "top": null,
            "visibility": null,
            "width": null
          }
        },
        "fe86e4812cd44412bebc80ca0f1043e7": {
          "model_module": "@jupyter-widgets/controls",
          "model_name": "DescriptionStyleModel",
          "model_module_version": "1.5.0",
          "state": {
            "_model_module": "@jupyter-widgets/controls",
            "_model_module_version": "1.5.0",
            "_model_name": "DescriptionStyleModel",
            "_view_count": null,
            "_view_module": "@jupyter-widgets/base",
            "_view_module_version": "1.2.0",
            "_view_name": "StyleView",
            "description_width": ""
          }
        }
      }
    }
  },
  "cells": [
    {
      "cell_type": "markdown",
      "metadata": {
        "id": "view-in-github",
        "colab_type": "text"
      },
      "source": [
        "<a href=\"https://colab.research.google.com/github/aysenurcftc/Fine-tuning_LLMs/blob/main/LLM_feature_extractor.ipynb\" target=\"_parent\"><img src=\"https://colab.research.google.com/assets/colab-badge.svg\" alt=\"Open In Colab\"/></a>"
      ]
    },
    {
      "cell_type": "markdown",
      "source": [
        "## LLM as Feature Extractor\n",
        "\n",
        "https://github.com/rasbt/LLM-finetuning-scripts/blob/main/conventional/distilbert-movie-review/1_feature-extractor.ipynb\n",
        "\n",
        "https://magazine.sebastianraschka.com/p/finetuning-large-language-models"
      ],
      "metadata": {
        "id": "m9l3NLhtG0sP"
      }
    },
    {
      "cell_type": "code",
      "execution_count": 112,
      "metadata": {
        "collapsed": true,
        "id": "YNCvpLWvF_nS"
      },
      "outputs": [],
      "source": [
        "#!pip install transformers datasets"
      ]
    },
    {
      "cell_type": "code",
      "source": [
        "import torch\n",
        "\n",
        "device = torch.device(\"cuda:0\" if torch.cuda.is_available() else \"cpu\")\n",
        "print(device)"
      ],
      "metadata": {
        "colab": {
          "base_uri": "https://localhost:8080/"
        },
        "id": "01LndLAcGcDr",
        "outputId": "0ede70b0-10fa-4d21-9d12-7db69a6e3f34"
      },
      "execution_count": 123,
      "outputs": [
        {
          "output_type": "stream",
          "name": "stdout",
          "text": [
            "cuda:0\n"
          ]
        }
      ]
    },
    {
      "cell_type": "code",
      "source": [
        "from datasets import load_dataset\n",
        "\n",
        "ds = load_dataset(\"legacy107/spamming-email-classification\")\n",
        "ds = ds.rename_columns({\"Text\": \"text\", \"Spam\": \"label\"})\n",
        "\n",
        "\"\"\"\n",
        "\n",
        "ds_small = DatasetDict({\n",
        "    \"train\": ds[\"train\"].shuffle(seed=42).select(range(1000)),\n",
        "    \"validation\": ds[\"validation\"].shuffle(seed=42).select(range(200)),\n",
        "    \"test\": ds[\"test\"].shuffle(seed=42).select(range(200)),\n",
        "})\n",
        "\n",
        "\"\"\""
      ],
      "metadata": {
        "colab": {
          "base_uri": "https://localhost:8080/",
          "height": 53
        },
        "id": "KySQrqARU257",
        "outputId": "a02668ce-ba35-44d8-e775-f17dbd5d1f05"
      },
      "execution_count": 124,
      "outputs": [
        {
          "output_type": "execute_result",
          "data": {
            "text/plain": [
              "'\\n\\nds_small = DatasetDict({\\n    \"train\": ds[\"train\"].shuffle(seed=42).select(range(1000)),\\n    \"validation\": ds[\"validation\"].shuffle(seed=42).select(range(200)),\\n    \"test\": ds[\"test\"].shuffle(seed=42).select(range(200)),\\n})\\n\\n'"
            ],
            "application/vnd.google.colaboratory.intrinsic+json": {
              "type": "string"
            }
          },
          "metadata": {},
          "execution_count": 124
        }
      ]
    },
    {
      "cell_type": "code",
      "source": [
        "ds"
      ],
      "metadata": {
        "colab": {
          "base_uri": "https://localhost:8080/"
        },
        "id": "1eXZ44gFU4FF",
        "outputId": "5699c219-2c3a-4ae3-d064-c5024149ef26"
      },
      "execution_count": 125,
      "outputs": [
        {
          "output_type": "execute_result",
          "data": {
            "text/plain": [
              "DatasetDict({\n",
              "    train: Dataset({\n",
              "        features: ['text', 'label'],\n",
              "        num_rows: 4556\n",
              "    })\n",
              "    val: Dataset({\n",
              "        features: ['text', 'label'],\n",
              "        num_rows: 569\n",
              "    })\n",
              "    test: Dataset({\n",
              "        features: ['text', 'label'],\n",
              "        num_rows: 570\n",
              "    })\n",
              "})"
            ]
          },
          "metadata": {},
          "execution_count": 125
        }
      ]
    },
    {
      "cell_type": "code",
      "source": [
        "ds['train'][0]"
      ],
      "metadata": {
        "colab": {
          "base_uri": "https://localhost:8080/"
        },
        "id": "CNLBuIpfU6rj",
        "outputId": "42291c5b-019e-4866-955d-50bf85ec980a"
      },
      "execution_count": 126,
      "outputs": [
        {
          "output_type": "execute_result",
          "data": {
            "text/plain": [
              "{'text': 'Subject: aiesec polska - eurolds 2000  jarek ,  czy enron moze pomoc w organizacji tej imprezy ?  bylaby to dobra okazja nawiazania wielu pozytecznych kontaktow .  wicek  - - - - - - - - - - - - - - - - - - - - - - forwarded by vince j kaminski / hou / ect on 02 / 17 / 2000  08 : 51 am - - - - - - - - - - - - - - - - - - - - - - - - - - -  \" andrzej wodnicki \" on 02 / 16 / 2000 02 : 50 : 05 am  to : vince j kaminski / hou / ect @ ect  cc :  subject : aiesec polska - eurolds 2000  szanowny panie kaminski !  nazywam sie andrzej wodnicki i jestem czlonkiem stowarzysznia studentow  aiesec przy szkole glownej handlowej ( dawnej sgpis ) .  prosze o poswiecenie paru chwil na przeczytanie tego maila .  ( kontakt do pana otrzymalem od kolegi , ktory organizowal prezentacje firmy  enron na sgh , a posrednio od pana jarka astramowicza , przedstawiciela enron  na polske . )  w imieniu aiesec polska chcialbym zwrocic sie do pana z wielka prosba pomocy  przy wydarzeniu , ktore w tym roku organizujemy .  aiesec polska , a w szczegolnosci aiesec przy szkole glownej handlowej ma  zaszczyt organizowac w tym roku european leadership development seminar . jest  to seminarium na temat przywodztwa skierowne do obecnych i przyszlych  czlonkow rad wykonawczych komitetow lokalnych aiesec w calej europie .  po raz pierwszy aiesec polska ma mozliwosc organizacji takiego wydarzenia i  stanowi ono dla nas olbrzymie wyzwanie .  przygotowywalismy sie do niego od kilku lat i obecnie jestesmy juz w koncowej  fazie organizacji eurolds 2000 .  projekt rozpoczyna sie 7 marca 2000 roku oficjalnym otwarciem przez pana  prezydenta aleksandra kwasniewskiego w sali kongresowej . pozniej odbeda sie  dyskusje panelowe ( udzial wielu znakomitych gosci - m . in jan krzysztof  bielecki , jacek saryusz wolski , andrzej olechowski ) oraz wyklady i  prezentacje regionow polski w auli spadochronowej szkoly glownej handlowej , a  nastepnie delegaci udadza sie do hotelu mrongovia na szkolenia , casy i  wyklady na temat przywodztwa . ( szczegolowy program eurolds 2000 przesylam w  zalaczniku . )  jak do tej pory staralismy sie mozliwie najwiecej dokonac wlasnymi silami ,  jednak obecnie na 3 tygodnie przed tym wydarzeniem stoimy przed pewnym  problemem i stad tez pojawil sie pomysl skontaktowania pana , jako osoby ,  ktora moglaby nam wydatnie pomoc .  chcielibysmy poprosic pana o wsparcie finansowe .  wspolpracujemy juz z wieloma firmami i instytucjami ( m . in . deloitte & touche ,  arthur andersen , fundusz phare , fundacja konrada adenauera oraz wieloma  innymi ) , jednak na obecnym etapie organizacji projektu wciaz brakuje nam  12000 $ .  poczatkowo chcielismy nawiazac kontakt z pania eileen price z londynu , jednak  wydaje nam sie , ze pan jako zalozyciel aiesec w polsce powienien po pierwsze  o takim wydarzeniu wiedziec , a po drugie mamy nadzieje , ze moze nam pan pomoc .  bardzo prosze o odpowiedz ,  z powazaniem  andrzej wodnicki  prezydent eurolds 2000  aiesec szkola glowna handlowa  - attl . htm  - eurolds _ prezentacja . ppt',\n",
              " 'label': 0}"
            ]
          },
          "metadata": {},
          "execution_count": 126
        }
      ]
    },
    {
      "cell_type": "code",
      "source": [
        "from transformers import AutoTokenizer\n",
        "\n",
        "tokenizer = AutoTokenizer.from_pretrained(\"distilbert-base-uncased\")\n",
        "print(\"Tokenizer input max length:\", tokenizer.model_max_length)\n",
        "print(\"Tokenizer vocabulary size:\", tokenizer.vocab_size)"
      ],
      "metadata": {
        "colab": {
          "base_uri": "https://localhost:8080/"
        },
        "id": "kIsfcR72L8HZ",
        "outputId": "d250055a-b234-4904-c75f-eaa3e14aa05d"
      },
      "execution_count": 127,
      "outputs": [
        {
          "output_type": "stream",
          "name": "stdout",
          "text": [
            "Tokenizer input max length: 512\n",
            "Tokenizer vocabulary size: 30522\n"
          ]
        }
      ]
    },
    {
      "cell_type": "code",
      "source": [
        "def tokenize_text(batch):\n",
        "    return tokenizer(batch[\"text\"], truncation=True, padding=True)"
      ],
      "metadata": {
        "id": "9Go0nXG3L8KJ"
      },
      "execution_count": 128,
      "outputs": []
    },
    {
      "cell_type": "code",
      "source": [
        "email_tokenized = ds.map(tokenize_text, batched=True, batch_size=None)"
      ],
      "metadata": {
        "id": "zpuXNjeEL8Ml"
      },
      "execution_count": 129,
      "outputs": []
    },
    {
      "cell_type": "code",
      "source": [
        "email_tokenized"
      ],
      "metadata": {
        "colab": {
          "base_uri": "https://localhost:8080/"
        },
        "id": "djqvVMF3PYT5",
        "outputId": "c64c3d67-8417-4271-b9f7-3044fafaf2f7"
      },
      "execution_count": 130,
      "outputs": [
        {
          "output_type": "execute_result",
          "data": {
            "text/plain": [
              "DatasetDict({\n",
              "    train: Dataset({\n",
              "        features: ['text', 'label', 'input_ids', 'attention_mask'],\n",
              "        num_rows: 4556\n",
              "    })\n",
              "    val: Dataset({\n",
              "        features: ['text', 'label', 'input_ids', 'attention_mask'],\n",
              "        num_rows: 569\n",
              "    })\n",
              "    test: Dataset({\n",
              "        features: ['text', 'label', 'input_ids', 'attention_mask'],\n",
              "        num_rows: 570\n",
              "    })\n",
              "})"
            ]
          },
          "metadata": {},
          "execution_count": 130
        }
      ]
    },
    {
      "cell_type": "code",
      "source": [
        "from transformers import AutoModel\n",
        "\n",
        "model = AutoModel.from_pretrained(\"distilbert-base-uncased\")\n",
        "model.to(device)"
      ],
      "metadata": {
        "colab": {
          "base_uri": "https://localhost:8080/"
        },
        "id": "ZAE7n5obL8O3",
        "outputId": "6c2b09fd-7fbd-44cc-e5eb-ff5dc296ad87"
      },
      "execution_count": 131,
      "outputs": [
        {
          "output_type": "execute_result",
          "data": {
            "text/plain": [
              "DistilBertModel(\n",
              "  (embeddings): Embeddings(\n",
              "    (word_embeddings): Embedding(30522, 768, padding_idx=0)\n",
              "    (position_embeddings): Embedding(512, 768)\n",
              "    (LayerNorm): LayerNorm((768,), eps=1e-12, elementwise_affine=True)\n",
              "    (dropout): Dropout(p=0.1, inplace=False)\n",
              "  )\n",
              "  (transformer): Transformer(\n",
              "    (layer): ModuleList(\n",
              "      (0-5): 6 x TransformerBlock(\n",
              "        (attention): DistilBertSdpaAttention(\n",
              "          (dropout): Dropout(p=0.1, inplace=False)\n",
              "          (q_lin): Linear(in_features=768, out_features=768, bias=True)\n",
              "          (k_lin): Linear(in_features=768, out_features=768, bias=True)\n",
              "          (v_lin): Linear(in_features=768, out_features=768, bias=True)\n",
              "          (out_lin): Linear(in_features=768, out_features=768, bias=True)\n",
              "        )\n",
              "        (sa_layer_norm): LayerNorm((768,), eps=1e-12, elementwise_affine=True)\n",
              "        (ffn): FFN(\n",
              "          (dropout): Dropout(p=0.1, inplace=False)\n",
              "          (lin1): Linear(in_features=768, out_features=3072, bias=True)\n",
              "          (lin2): Linear(in_features=3072, out_features=768, bias=True)\n",
              "          (activation): GELUActivation()\n",
              "        )\n",
              "        (output_layer_norm): LayerNorm((768,), eps=1e-12, elementwise_affine=True)\n",
              "      )\n",
              "    )\n",
              "  )\n",
              ")"
            ]
          },
          "metadata": {},
          "execution_count": 131
        }
      ]
    },
    {
      "cell_type": "code",
      "source": [
        "email_tokenized.set_format(\"torch\", columns=[\"input_ids\", \"attention_mask\", \"label\"])"
      ],
      "metadata": {
        "id": "keL7XXd4PpHN"
      },
      "execution_count": 132,
      "outputs": []
    },
    {
      "cell_type": "code",
      "source": [
        "test_batch = {\"attention_mask\": email_tokenized[\"train\"][:3][\"attention_mask\"].to(device),\n",
        "              \"input_ids\": email_tokenized[\"train\"][:3][\"input_ids\"].to(device)}\n",
        "\n",
        "with torch.inference_mode():\n",
        "    test_output = model(**test_batch)\n",
        "\n",
        "test_output.last_hidden_state.shape"
      ],
      "metadata": {
        "colab": {
          "base_uri": "https://localhost:8080/"
        },
        "id": "NNYQOzggL8RI",
        "outputId": "f58fff94-44ca-4b42-e23b-e04970d96eaf"
      },
      "execution_count": 133,
      "outputs": [
        {
          "output_type": "execute_result",
          "data": {
            "text/plain": [
              "torch.Size([3, 512, 768])"
            ]
          },
          "metadata": {},
          "execution_count": 133
        }
      ]
    },
    {
      "cell_type": "code",
      "source": [
        "cls_token_output = test_output.last_hidden_state[:, 0]\n",
        "cls_token_output.shape"
      ],
      "metadata": {
        "colab": {
          "base_uri": "https://localhost:8080/"
        },
        "id": "JDl2ESL_Pjj4",
        "outputId": "a0ff8cc9-bdab-4fa3-c741-938b3b896eb5"
      },
      "execution_count": 134,
      "outputs": [
        {
          "output_type": "execute_result",
          "data": {
            "text/plain": [
              "torch.Size([3, 768])"
            ]
          },
          "metadata": {},
          "execution_count": 134
        }
      ]
    },
    {
      "cell_type": "code",
      "source": [
        "@torch.inference_mode()\n",
        "def get_output_embeddings(batch):\n",
        "    output = model(\n",
        "        batch[\"input_ids\"].to(device),\n",
        "        attention_mask=batch[\"attention_mask\"].to(device)).last_hidden_state[:, 0]\n",
        "    return {\"features\": output.cpu().numpy()}"
      ],
      "metadata": {
        "id": "LJe0KDwxPtr2"
      },
      "execution_count": 135,
      "outputs": []
    },
    {
      "cell_type": "code",
      "source": [
        "import time\n",
        "start = time.time()\n",
        "\n",
        "email_features = email_tokenized.map(get_output_embeddings, batched=True, batch_size=10)"
      ],
      "metadata": {
        "colab": {
          "base_uri": "https://localhost:8080/",
          "height": 49,
          "referenced_widgets": [
            "5d05c8b338e74276b3e06f4c62b75b57",
            "6308bd17eb4046a2bd128eed365305b8",
            "605724ceff054c0ea2b2bd39f88e0e52",
            "7e8a9846d03b48a2ab4013a28809dce8",
            "98590ce2c600443a84fe27e62a565b41",
            "cb917df977994b659e1090377b4a9b24",
            "c8b3015743584821bb60e1d628a9d412",
            "0c4589babf614087850eed6707da004a",
            "6af40c8302a84fac903ad88ad4973a32",
            "3567baf1b0ee4c16a98ca8cc0cdb66ca",
            "fe86e4812cd44412bebc80ca0f1043e7"
          ]
        },
        "id": "rK9bowHQPtuN",
        "outputId": "5ace71cf-24b6-47cd-ba31-39e3eadb2198"
      },
      "execution_count": 136,
      "outputs": [
        {
          "output_type": "display_data",
          "data": {
            "text/plain": [
              "Map:   0%|          | 0/570 [00:00<?, ? examples/s]"
            ],
            "application/vnd.jupyter.widget-view+json": {
              "version_major": 2,
              "version_minor": 0,
              "model_id": "5d05c8b338e74276b3e06f4c62b75b57"
            }
          },
          "metadata": {}
        }
      ]
    },
    {
      "cell_type": "code",
      "source": [
        "import numpy as np\n",
        "\n",
        "X_train = np.array(email_features[\"train\"][\"features\"])\n",
        "y_train = np.array(emotion_features[\"train\"][\"label\"])\n",
        "\n",
        "X_val = np.array(email_features[\"val\"][\"features\"])\n",
        "y_val = np.array(email_features[\"val\"][\"label\"])\n",
        "\n",
        "X_test = np.array(email_features[\"test\"][\"features\"])\n",
        "y_test = np.array(email_features[\"test\"][\"label\"])"
      ],
      "metadata": {
        "id": "KtRBeNjYPtwj"
      },
      "execution_count": 137,
      "outputs": []
    },
    {
      "cell_type": "markdown",
      "source": [
        "### Train Model on Embeddings (Extracted Features)"
      ],
      "metadata": {
        "id": "uOO2tak6ZU3s"
      }
    },
    {
      "cell_type": "code",
      "source": [
        "from sklearn.linear_model import LogisticRegression\n",
        "\n",
        "clf = LogisticRegression(max_iter=1000)\n",
        "clf.fit(X_train, y_train)\n",
        "\n",
        "print(\"Training accuracy\", clf.score(X_train, y_train))\n",
        "print(\"Validation accuracy\", clf.score(X_val, y_val))\n",
        "print(\"test accuracy\", clf.score(X_test, y_test))\n",
        "\n",
        "end = time.time()\n",
        "elapsed = end - start\n",
        "print(f\"Time elapsed {elapsed/60:.2f} min\")"
      ],
      "metadata": {
        "colab": {
          "base_uri": "https://localhost:8080/"
        },
        "id": "V_g9VvgOPty5",
        "outputId": "27ffd4e2-485f-4159-8e20-79f9e055fde7"
      },
      "execution_count": 138,
      "outputs": [
        {
          "output_type": "stream",
          "name": "stdout",
          "text": [
            "Training accuracy 0.9949517120280948\n",
            "Validation accuracy 0.9912126537785588\n",
            "test accuracy 0.9912280701754386\n",
            "Time elapsed 0.44 min\n"
          ]
        }
      ]
    },
    {
      "cell_type": "code",
      "source": [
        "from sklearn.ensemble import RandomForestClassifier\n",
        "\n",
        "clf = RandomForestClassifier()\n",
        "clf.fit(X_train, y_train)\n",
        "\n",
        "print(\"Training accuracy\", clf.score(X_train, y_train))\n",
        "print(\"Validation accuracy\", clf.score(X_val, y_val))\n",
        "print(\"test accuracy\", clf.score(X_test, y_test))"
      ],
      "metadata": {
        "colab": {
          "base_uri": "https://localhost:8080/"
        },
        "id": "kMC23thcPt0y",
        "outputId": "44117e1d-ea23-4f5a-d42f-b690f51b0403"
      },
      "execution_count": 139,
      "outputs": [
        {
          "output_type": "stream",
          "name": "stdout",
          "text": [
            "Training accuracy 1.0\n",
            "Validation accuracy 0.9578207381370826\n",
            "test accuracy 0.9736842105263158\n"
          ]
        }
      ]
    }
  ]
}